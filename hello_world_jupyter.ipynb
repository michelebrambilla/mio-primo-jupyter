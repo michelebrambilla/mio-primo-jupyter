{
 "cells": [
  {
   "cell_type": "markdown",
   "id": "309777a4",
   "metadata": {},
   "source": [
    "# 🎉 Il Tuo Primo Notebook Jupyter!\n",
    "\n",
    "Benvenuto! Questo è un esempio di **Jupyter Notebook** che combina:\n",
    "- Testo formattato (come questo)\n",
    "- Codice Python eseguibile\n",
    "- Grafici e visualizzazioni\n",
    "\n",
    "## Istruzioni:\n",
    "1. Esegui ogni cella premendo **Shift+Enter**\n",
    "2. Osserva i risultati che appaiono sotto ogni cella\n",
    "3. Sperimenta modificando il codice!"
   ]
  },
  {
   "cell_type": "code",
   "execution_count": null,
   "id": "f552f8a2",
   "metadata": {},
   "outputs": [],
   "source": [
    "# Cella 1: Test di base e saluto\n",
    "print(\"🌟 Ciao mondo! Il tuo ambiente Jupyter funziona perfettamente!\")\n",
    "print(\"🐍 Versione Python:\", end=\" \")\n",
    "\n",
    "import sys\n",
    "print(sys.version.split()[0])\n",
    "\n",
    "# Operazioni matematiche semplici\n",
    "risultato = 2 + 2\n",
    "print(f\"\\n✅ Test matematico: 2 + 2 = {risultato}\")\n",
    "print(f\"✅ Test stringa: {'Hello' + ' ' + 'World'}\")"
   ]
  },
  {
   "cell_type": "code",
   "execution_count": null,
   "id": "0ee78961",
   "metadata": {},
   "outputs": [],
   "source": [
    "# Cella 2: Test delle librerie scientifiche\n",
    "import numpy as np\n",
    "import matplotlib.pyplot as plt\n",
    "\n",
    "print(\"📚 Librerie caricate con successo!\")\n",
    "print(f\"   NumPy versione: {np.__version__}\")\n",
    "\n",
    "# Creiamo alcuni dati\n",
    "numeri = np.array([1, 2, 3, 4, 5])\n",
    "quadrati = numeri ** 2\n",
    "\n",
    "print(f\"\\n🔢 Numeri originali: {numeri}\")\n",
    "print(f\"🔢 I loro quadrati: {quadrati}\")\n",
    "print(f\"📊 Media dei quadrati: {np.mean(quadrati):.1f}\")"
   ]
  },
  {
   "cell_type": "code",
   "execution_count": null,
   "id": "9aec807a",
   "metadata": {},
   "outputs": [],
   "source": [
    "# Cella 3: Il tuo primo grafico!\n",
    "# Creiamo dati per un grafico carino\n",
    "x = np.linspace(0, 2*np.pi, 100)\n",
    "y1 = np.sin(x)\n",
    "y2 = np.cos(x)\n",
    "\n",
    "# Creiamo il grafico\n",
    "plt.figure(figsize=(10, 6))\n",
    "plt.plot(x, y1, 'b-', linewidth=2, label='sin(x)')\n",
    "plt.plot(x, y2, 'r--', linewidth=2, label='cos(x)')\n",
    "\n",
    "plt.title('🎨 Il Tuo Primo Grafico Jupyter!', fontsize=16, fontweight='bold')\n",
    "plt.xlabel('x (radianti)')\n",
    "plt.ylabel('y')\n",
    "plt.legend()\n",
    "plt.grid(True, alpha=0.3)\n",
    "\n",
    "# Aggiungiamo colori di sfondo\n",
    "plt.axhspan(-1, 1, alpha=0.1, color='green')\n",
    "\n",
    "plt.tight_layout()\n",
    "plt.show()\n",
    "\n",
    "print(\"\\n🎉 Fantastico! Hai creato il tuo primo grafico!\")"
   ]
  },
  {
   "cell_type": "markdown",
   "id": "ebce97cc",
   "metadata": {},
   "source": [
    "## 🏆 Congratulazioni!\n",
    "\n",
    "Se sei arrivato fin qui ed hai visto:\n",
    "- ✅ I messaggi di saluto\n",
    "- ✅ I calcoli matematici\n",
    "- ✅ Il grafico con le funzioni seno e coseno\n",
    "\n",
    "**Il tuo ambiente Jupyter è perfettamente configurato!**\n",
    "\n",
    "### 🚀 Prossimi Passi:\n",
    "1. **Sperimenta**: Modifica i numeri nel codice e riesegui le celle\n",
    "2. **Crea**: Aggiungi nuove celle con il pulsante \"+\" \n",
    "3. **Salva**: Il tuo lavoro si salva automaticamente\n",
    "4. **Impara**: Sei pronto per progetti più complessi!\n",
    "\n",
    "### 💡 Suggerimenti:\n",
    "- **Shift+Enter**: Esegue la cella corrente\n",
    "- **Ctrl+Enter**: Esegue la cella senza spostarsi\n",
    "- **Alt+Enter**: Esegue e crea una nuova cella sotto\n",
    "- **Esc**: Entra in modalità comando\n",
    "- **Enter**: Entra in modalità edit\n",
    "\n",
    "**Buona programmazione! 🐍✨**"
   ]
  }
 ],
 "metadata": {
  "language_info": {
   "name": "python"
  }
 },
 "nbformat": 4,
 "nbformat_minor": 5
}
