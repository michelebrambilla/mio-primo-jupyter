{
 "cells": [
  {
   "cell_type": "markdown",
   "id": "2aa39d48",
   "metadata": {},
   "source": [
    "# 🧮 Parte 1: Operazioni Python Elementari\n",
    "\n",
    "**Obiettivo**: Imparare i mattoni di base prima di affrontare il CLT.\n",
    "\n",
    "## Argomenti:\n",
    "1. Setup e operazioni matematiche\n",
    "2. Array NumPy (come i vettori in C, ma più potenti)\n",
    "3. Stringhe e formatting\n",
    "4. Plot e visualizzazioni\n",
    "5. Variabili aleatorie e distribuzioni"
   ]
  },
  {
   "cell_type": "code",
   "execution_count": 4,
   "id": "264670fc",
   "metadata": {},
   "outputs": [
    {
     "name": "stdout",
     "output_type": "stream",
     "text": [
      "🐍 Setup completato!\n"
     ]
    }
   ],
   "source": [
    "# Setup\n",
    "import numpy as np\n",
    "import matplotlib.pyplot as plt\n",
    "\n",
    "plt.rcParams['figure.figsize'] = (12, 6)\n",
    "plt.rcParams['font.size'] = 11\n",
    "\n",
    "print(\"🐍 Setup completato!\")"
   ]
  },
  {
   "cell_type": "markdown",
   "id": "2f0eef34",
   "metadata": {},
   "source": [
    "## 💡 Prima di iniziare: Come chiedere aiuto a Python!"
   ]
  },
  {
   "cell_type": "code",
   "execution_count": 12,
   "id": "b23525a5",
   "metadata": {},
   "outputs": [
    {
     "name": "stdout",
     "output_type": "stream",
     "text": [
      "=== HELP() - Documentazione completa ===\n",
      "Help on _ArrayFunctionDispatcher in module numpy:\n",
      "\n",
      "mean(a, axis=None, dtype=None, out=None, keepdims=<no value>, *, where=<no value>)\n",
      "    Compute the arithmetic mean along the specified axis.\n",
      "    \n",
      "    Returns the average of the array elements.  The average is taken over\n",
      "    the flattened array by default, otherwise over the specified axis.\n",
      "    `float64` intermediate and return values are used for integer inputs.\n",
      "    \n",
      "    Parameters\n",
      "    ----------\n",
      "    a : array_like\n",
      "        Array containing numbers whose mean is desired. If `a` is not an\n",
      "        array, a conversion is attempted.\n",
      "    axis : None or int or tuple of ints, optional\n",
      "        Axis or axes along which the means are computed. The default is to\n",
      "        compute the mean of the flattened array.\n",
      "    \n",
      "        If this is a tuple of ints, a mean is performed over multiple axes,\n",
      "        instead of a single axis or all the axes as before.\n",
      "    dtype : data-type, optional\n",
      "        Type to use in computing the mean.  For integer inputs, the default\n",
      "        is `float64`; for floating point inputs, it is the same as the\n",
      "        input dtype.\n",
      "    out : ndarray, optional\n",
      "        Alternate output array in which to place the result.  The default\n",
      "        is ``None``; if provided, it must have the same shape as the\n",
      "        expected output, but the type will be cast if necessary.\n",
      "        See :ref:`ufuncs-output-type` for more details.\n",
      "        See :ref:`ufuncs-output-type` for more details.\n",
      "    \n",
      "    keepdims : bool, optional\n",
      "        If this is set to True, the axes which are reduced are left\n",
      "        in the result as dimensions with size one. With this option,\n",
      "        the result will broadcast correctly against the input array.\n",
      "    \n",
      "        If the default value is passed, then `keepdims` will not be\n",
      "        passed through to the `mean` method of sub-classes of\n",
      "        `ndarray`, however any non-default value will be.  If the\n",
      "        sub-class' method does not implement `keepdims` any\n",
      "        exceptions will be raised.\n",
      "    \n",
      "    where : array_like of bool, optional\n",
      "        Elements to include in the mean. See `~numpy.ufunc.reduce` for details.\n",
      "    \n",
      "        .. versionadded:: 1.20.0\n",
      "    \n",
      "    Returns\n",
      "    -------\n",
      "    m : ndarray, see dtype parameter above\n",
      "        If `out=None`, returns a new array containing the mean values,\n",
      "        otherwise a reference to the output array is returned.\n",
      "    \n",
      "    See Also\n",
      "    --------\n",
      "    average : Weighted average\n",
      "    std, var, nanmean, nanstd, nanvar\n",
      "    \n",
      "    Notes\n",
      "    -----\n",
      "    The arithmetic mean is the sum of the elements along the axis divided\n",
      "    by the number of elements.\n",
      "    \n",
      "    Note that for floating-point input, the mean is computed using the\n",
      "    same precision the input has.  Depending on the input data, this can\n",
      "    cause the results to be inaccurate, especially for `float32` (see\n",
      "    example below).  Specifying a higher-precision accumulator using the\n",
      "    `dtype` keyword can alleviate this issue.\n",
      "    \n",
      "    By default, `float16` results are computed using `float32` intermediates\n",
      "    for extra precision.\n",
      "    \n",
      "    Examples\n",
      "    --------\n",
      "    >>> import numpy as np\n",
      "    >>> a = np.array([[1, 2], [3, 4]])\n",
      "    >>> np.mean(a)\n",
      "    2.5\n",
      "    >>> np.mean(a, axis=0)\n",
      "    array([2., 3.])\n",
      "    >>> np.mean(a, axis=1)\n",
      "    array([1.5, 3.5])\n",
      "    \n",
      "    In single precision, `mean` can be inaccurate:\n",
      "    \n",
      "    >>> a = np.zeros((2, 512*512), dtype=np.float32)\n",
      "    >>> a[0, :] = 1.0\n",
      "    >>> a[1, :] = 0.1\n",
      "    >>> np.mean(a)\n",
      "    np.float32(0.54999924)\n",
      "    \n",
      "    Computing the mean in float64 is more accurate:\n",
      "    \n",
      "    >>> np.mean(a, dtype=np.float64)\n",
      "    0.55000000074505806 # may vary\n",
      "    \n",
      "    Computing the mean in timedelta64 is available:\n",
      "    \n",
      "    >>> b = np.array([1, 3], dtype=\"timedelta64[D]\")\n",
      "    >>> np.mean(b)\n",
      "    np.timedelta64(2,'D')\n",
      "    \n",
      "    Specifying a where argument:\n",
      "    \n",
      "    >>> a = np.array([[5, 9, 13], [14, 10, 12], [11, 15, 19]])\n",
      "    >>> np.mean(a)\n",
      "    12.0\n",
      "    >>> np.mean(a, where=[[True], [False], [False]])\n",
      "    9.0\n",
      "\n",
      "\n",
      "==================================================\n",
      "=== DIR() - Tutti i metodi di un array ===\n",
      "Primi 10 metodi: ['T', 'all', 'any', 'argmax', 'argmin', 'argpartition', 'argsort', 'astype', 'base', 'byteswap']\n",
      "\n",
      "💡 TRUCCHI:\n",
      "• Scrivi 'np.' e premi TAB → vedi tutte le funzioni NumPy\n",
      "• Scrivi 'arr.' e premi TAB → vedi tutti i metodi dell'array\n",
      "• Scrivi 'plt.' e premi TAB → vedi tutte le funzioni plot\n",
      "\n",
      "=== ESEMPI PRATICI ===\n",
      "Array: [1 2 3 4 5]\n",
      "dati.mean(): 3.0\n",
      "np.mean(dati): 3.0\n",
      "dati.std(): 1.4142135623730951\n",
      "dati.max(): 5\n"
     ]
    }
   ],
   "source": [
    "# 🔍 DOCUMENTAZIONE: Come scoprire cosa fanno le funzioni\n",
    "\n",
    "# 1. Usa help() per spiegazioni complete\n",
    "print(\"=== HELP() - Documentazione completa ===\")\n",
    "help(np.mean)  # Spiegazione dettagliata di np.mean\n",
    "\n",
    "print(\"\\n\" + \"=\"*50)\n",
    "\n",
    "# 2. Usa ? per sintesi rapida (solo in Jupyter/IPython)\n",
    "# np.std?  # Scrivi e premi Shift+Enter per vedere info veloce\n",
    "\n",
    "# 3. Usa dir() per vedere tutti i metodi disponibili\n",
    "print(\"=== DIR() - Tutti i metodi di un array ===\")\n",
    "arr = np.array([1, 2, 3])\n",
    "metodi = [m for m in dir(arr) if not m.startswith('_')]  # Nasconde metodi interni\n",
    "print(f\"Primi 10 metodi: {metodi[:10]}\")\n",
    "\n",
    "# 4. Autocompletamento: scrivi np. e premi TAB per vedere opzioni\n",
    "print(\"\\n💡 TRUCCHI:\")\n",
    "print(\"• Scrivi 'np.' e premi TAB → vedi tutte le funzioni NumPy\")\n",
    "print(\"• Scrivi 'arr.' e premi TAB → vedi tutti i metodi dell'array\") \n",
    "print(\"• Scrivi 'plt.' e premi TAB → vedi tutte le funzioni plot\")\n",
    "\n",
    "# 5. Esempi pratici\n",
    "print(f\"\\n=== ESEMPI PRATICI ===\")\n",
    "dati = np.array([1, 2, 3, 4, 5])\n",
    "print(f\"Array: {dati}\")\n",
    "print(f\"dati.mean(): {dati.mean()}\")      # Metodo dell'array\n",
    "print(f\"np.mean(dati): {np.mean(dati)}\")  # Funzione NumPy\n",
    "print(f\"dati.std(): {dati.std()}\")        # Deviazione standard\n",
    "print(f\"dati.max(): {dati.max()}\")        # Massimo"
   ]
  },
  {
   "cell_type": "markdown",
   "id": "2a1048a6",
   "metadata": {},
   "source": [
    "### 🚀 Prova tu: Scorciatoie per essere più veloce!\n",
    "\n",
    "**In VS Code + Jupyter:**\n",
    "- **Tab** → Autocompletamento intelligente\n",
    "- **Ctrl+Space** → Suggerimenti mentre scrivi  \n",
    "- **Shift+Tab** → Documentazione veloce (tenendo cursore su funzione)\n",
    "- **Ctrl+/** → Commenta/scommenta righe\n",
    "\n",
    "**Quando sei bloccato:**\n",
    "```python\n",
    "help(funzione_misteriosa)  # Spiegazione completa\n",
    "funzione_misteriosa?       # Info rapida (solo Jupyter)\n",
    "dir(oggetto)               # Tutti i metodi disponibili\n",
    "```\n",
    "\n",
    "💡 **Ricorda**: Non devi memorizzare tutto! Python ti aiuta a scoprire le funzioni! 🐍"
   ]
  },
  {
   "cell_type": "code",
   "execution_count": 14,
   "id": "3e5ce498",
   "metadata": {},
   "outputs": [
    {
     "name": "stdout",
     "output_type": "stream",
     "text": [
      "\u001b[0;31mType:\u001b[0m        module\n",
      "\u001b[0;31mString form:\u001b[0m <module 'numpy.random' from '/Users/michele/miniforge3/envs/tensorflow_FINAL/lib/python3.11/site-packages/numpy/random/__init__.py'>\n",
      "\u001b[0;31mFile:\u001b[0m        ~/miniforge3/envs/tensorflow_FINAL/lib/python3.11/site-packages/numpy/random/__init__.py\n",
      "\u001b[0;31mDocstring:\u001b[0m  \n",
      "========================\n",
      "Random Number Generation\n",
      "========================\n",
      "\n",
      "Use ``default_rng()`` to create a `Generator` and call its methods.\n",
      "\n",
      "=============== =========================================================\n",
      "Generator\n",
      "--------------- ---------------------------------------------------------\n",
      "Generator       Class implementing all of the random number distributions\n",
      "default_rng     Default constructor for ``Generator``\n",
      "=============== =========================================================\n",
      "\n",
      "============================================= ===\n",
      "BitGenerator Streams that work with Generator\n",
      "--------------------------------------------- ---\n",
      "MT19937\n",
      "PCG64\n",
      "PCG64DXSM\n",
      "Philox\n",
      "SFC64\n",
      "============================================= ===\n",
      "\n",
      "============================================= ===\n",
      "Getting entropy to initialize a BitGenerator\n",
      "--------------------------------------------- ---\n",
      "SeedSequence\n",
      "============================================= ===\n",
      "\n",
      "\n",
      "Legacy\n",
      "------\n",
      "\n",
      "For backwards compatibility with previous versions of numpy before 1.17, the\n",
      "various aliases to the global `RandomState` methods are left alone and do not\n",
      "use the new `Generator` API.\n",
      "\n",
      "==================== =========================================================\n",
      "Utility functions\n",
      "-------------------- ---------------------------------------------------------\n",
      "random               Uniformly distributed floats over ``[0, 1)``\n",
      "bytes                Uniformly distributed random bytes.\n",
      "permutation          Randomly permute a sequence / generate a random sequence.\n",
      "shuffle              Randomly permute a sequence in place.\n",
      "choice               Random sample from 1-D array.\n",
      "==================== =========================================================\n",
      "\n",
      "==================== =========================================================\n",
      "Compatibility\n",
      "functions - removed\n",
      "in the new API\n",
      "-------------------- ---------------------------------------------------------\n",
      "rand                 Uniformly distributed values.\n",
      "randn                Normally distributed values.\n",
      "ranf                 Uniformly distributed floating point numbers.\n",
      "random_integers      Uniformly distributed integers in a given range.\n",
      "                     (deprecated, use ``integers(..., closed=True)`` instead)\n",
      "random_sample        Alias for `random_sample`\n",
      "randint              Uniformly distributed integers in a given range\n",
      "seed                 Seed the legacy random number generator.\n",
      "==================== =========================================================\n",
      "\n",
      "==================== =========================================================\n",
      "Univariate\n",
      "distributions\n",
      "-------------------- ---------------------------------------------------------\n",
      "beta                 Beta distribution over ``[0, 1]``.\n",
      "binomial             Binomial distribution.\n",
      "chisquare            :math:`\\chi^2` distribution.\n",
      "exponential          Exponential distribution.\n",
      "f                    F (Fisher-Snedecor) distribution.\n",
      "gamma                Gamma distribution.\n",
      "geometric            Geometric distribution.\n",
      "gumbel               Gumbel distribution.\n",
      "hypergeometric       Hypergeometric distribution.\n",
      "laplace              Laplace distribution.\n",
      "logistic             Logistic distribution.\n",
      "lognormal            Log-normal distribution.\n",
      "logseries            Logarithmic series distribution.\n",
      "negative_binomial    Negative binomial distribution.\n",
      "noncentral_chisquare Non-central chi-square distribution.\n",
      "noncentral_f         Non-central F distribution.\n",
      "normal               Normal / Gaussian distribution.\n",
      "pareto               Pareto distribution.\n",
      "poisson              Poisson distribution.\n",
      "power                Power distribution.\n",
      "rayleigh             Rayleigh distribution.\n",
      "triangular           Triangular distribution.\n",
      "uniform              Uniform distribution.\n",
      "vonmises             Von Mises circular distribution.\n",
      "wald                 Wald (inverse Gaussian) distribution.\n",
      "weibull              Weibull distribution.\n",
      "zipf                 Zipf's distribution over ranked data.\n",
      "==================== =========================================================\n",
      "\n",
      "==================== ==========================================================\n",
      "Multivariate\n",
      "distributions\n",
      "-------------------- ----------------------------------------------------------\n",
      "dirichlet            Multivariate generalization of Beta distribution.\n",
      "multinomial          Multivariate generalization of the binomial distribution.\n",
      "multivariate_normal  Multivariate generalization of the normal distribution.\n",
      "==================== ==========================================================\n",
      "\n",
      "==================== =========================================================\n",
      "Standard\n",
      "distributions\n",
      "-------------------- ---------------------------------------------------------\n",
      "standard_cauchy      Standard Cauchy-Lorentz distribution.\n",
      "standard_exponential Standard exponential distribution.\n",
      "standard_gamma       Standard Gamma distribution.\n",
      "standard_normal      Standard normal distribution.\n",
      "standard_t           Standard Student's t-distribution.\n",
      "==================== =========================================================\n",
      "\n",
      "==================== =========================================================\n",
      "Internal functions\n",
      "-------------------- ---------------------------------------------------------\n",
      "get_state            Get tuple representing internal state of generator.\n",
      "set_state            Set state of generator.\n",
      "==================== ========================================================="
     ]
    }
   ],
   "source": [
    "np.random?"
   ]
  },
  {
   "cell_type": "markdown",
   "id": "1f0bf4ae",
   "metadata": {},
   "source": [
    "## 1. Operazioni Base"
   ]
  },
  {
   "cell_type": "code",
   "execution_count": 5,
   "id": "c4854ea6",
   "metadata": {},
   "outputs": [
    {
     "name": "stdout",
     "output_type": "stream",
     "text": [
      "Somma: 8\n",
      "Media di [2, 4, 6]: 4.0\n",
      "Potenza: 1024\n",
      "\n",
      "Dati: [1, 3, 5, 7, 9, 2, 4, 6, 8, 10]\n",
      "Media: 5.50\n",
      "Varianza: 8.25\n"
     ]
    }
   ],
   "source": [
    "# Matematica elementare\n",
    "print(\"Somma:\", 5 + 3)\n",
    "print(\"Media di [2, 4, 6]:\", (2 + 4 + 6) / 3)\n",
    "print(\"Potenza:\", 2**10)\n",
    "\n",
    "# Statistiche su lista\n",
    "dati = [1, 3, 5, 7, 9, 2, 4, 6, 8, 10]\n",
    "media = sum(dati) / len(dati)\n",
    "print(f\"\\nDati: {dati}\")\n",
    "print(f\"Media: {media:.2f}\")\n",
    "\n",
    "# Varianza manuale\n",
    "scarti = [(x - media)**2 for x in dati]\n",
    "varianza = sum(scarti) / len(scarti)\n",
    "print(f\"Varianza: {varianza:.2f}\")"
   ]
  },
  {
   "cell_type": "markdown",
   "id": "86117835",
   "metadata": {},
   "source": [
    "### 🔥 Esercizio 1: Calcoli di base"
   ]
  },
  {
   "cell_type": "code",
   "execution_count": null,
   "id": "9b0c3a47",
   "metadata": {},
   "outputs": [],
   "source": [
    "# 📝 COMPLETARE:\n",
    "# Hai visto sopra come fare calcoli base. Ora rifai tu ma più intelligente:\n",
    "# 1. Calcola velocità: 150 metri in 12 secondi\n",
    "# 2. Converti da m/s a km/h (moltiplica per 3.6)  \n",
    "# 3. Crea lista temperature: [18, 22, 19, 25, 20, 24, 21]\n",
    "# 4. Calcola media e std delle temperature\n",
    "# 💡 SUGGERIMENTO: np.mean(), np.mean(std)\n",
    "\n",
    "# Scrivi il tuo codice qui:"
   ]
  },
  {
   "cell_type": "markdown",
   "id": "eff9c74d",
   "metadata": {},
   "source": [
    "## 2. Array NumPy (meglio dei vettori C!)"
   ]
  },
  {
   "cell_type": "code",
   "execution_count": 6,
   "id": "89f3cadf",
   "metadata": {},
   "outputs": [
    {
     "name": "stdout",
     "output_type": "stream",
     "text": [
      "=== CREAZIONE ARRAY ===\n",
      "Array a: [1 2 3 4 5]\n",
      "Array b: [10 20 30 40 50]\n",
      "Tipo: <class 'numpy.ndarray'>, dtype: int64\n",
      "\n",
      "=== OPERAZIONI VETTORIALI ===\n",
      "a + b = [11 22 33 44 55]\n",
      "a * b = [ 10  40  90 160 250]\n",
      "a ** 2 = [ 1  4  9 16 25]\n",
      "\n",
      "=== FUNZIONI MATEMATICHE ===\n",
      "Radice di a: [1.         1.41421356 1.73205081 2.         2.23606798]\n",
      "Esponenziale: [ 2.71828183  7.3890561  20.08553692]...\n",
      "Seno: [ 0.84147098  0.90929743  0.14112001 -0.7568025  -0.95892427]\n",
      "\n",
      "=== STATISTICHE ===\n",
      "Dati: [2.1 1.9 2.  2.2 1.8 2.  2.1]\n",
      "Media: 2.014\n",
      "Std: 0.125\n",
      "Min: 1.8, Max: 2.2\n"
     ]
    }
   ],
   "source": [
    "# Array NumPy: come vettori C ma molto più potenti\n",
    "print(\"=== CREAZIONE ARRAY ===\")\n",
    "a = np.array([1, 2, 3, 4, 5])\n",
    "b = np.array([10, 20, 30, 40, 50])\n",
    "print(f\"Array a: {a}\")\n",
    "print(f\"Array b: {b}\")\n",
    "print(f\"Tipo: {type(a)}, dtype: {a.dtype}\")\n",
    "\n",
    "# Operazioni vettoriali (impossibili in C senza loop!)\n",
    "print(f\"\\n=== OPERAZIONI VETTORIALI ===\")\n",
    "print(f\"a + b = {a + b}\")        # Somma elemento per elemento\n",
    "print(f\"a * b = {a * b}\")        # Prodotto elemento per elemento  \n",
    "print(f\"a ** 2 = {a**2}\")        # Elevamento a potenza\n",
    "\n",
    "# Funzioni matematiche applicate a tutto l'array\n",
    "print(f\"\\n=== FUNZIONI MATEMATICHE ===\")\n",
    "print(f\"Radice di a: {np.sqrt(a)}\")\n",
    "print(f\"Esponenziale: {np.exp(a)[:3]}...\")  # Primi 3 elementi\n",
    "print(f\"Seno: {np.sin(a)}\")\n",
    "\n",
    "# Statistiche istantanee\n",
    "print(f\"\\n=== STATISTICHE ===\")\n",
    "dati_esperimento = np.array([2.1, 1.9, 2.0, 2.2, 1.8, 2.0, 2.1])\n",
    "print(f\"Dati: {dati_esperimento}\")\n",
    "print(f\"Media: {np.mean(dati_esperimento):.3f}\")\n",
    "print(f\"Std: {np.std(dati_esperimento):.3f}\")\n",
    "print(f\"Min: {np.min(dati_esperimento)}, Max: {np.max(dati_esperimento)}\")"
   ]
  },
  {
   "cell_type": "markdown",
   "id": "4ce5f0e3",
   "metadata": {},
   "source": [
    "### 🔥 Esercizio 2: Array NumPy"
   ]
  },
  {
   "cell_type": "code",
   "execution_count": null,
   "id": "136dc1d3",
   "metadata": {},
   "outputs": [],
   "source": [
    "# 📝 COMPLETARE:\n",
    "# Hai visto le operazioni vettoriali NumPy. Ora prova tu:\n",
    "# 1. Crea array forze = [10, 15, 20, 25, 30] Newton\n",
    "# 2. Crea array masse = [1, 2, 3, 4, 5] kg  \n",
    "# 3. Calcola accelerazioni con F = ma → a = F/m (divisione vettoriale!)\n",
    "# 4. Trova accelerazione media, max, min usando funzioni NumPy\n",
    "# 💡 SUGGERIMENTO: np.mean(), np.max(), np.min() \n",
    "\n",
    "# Scrivi il tuo codice qui:"
   ]
  },
  {
   "cell_type": "markdown",
   "id": "19322e38",
   "metadata": {},
   "source": [
    "## 3. Stringhe e Formatting (per output scientifici)"
   ]
  },
  {
   "cell_type": "code",
   "execution_count": 7,
   "id": "ef7d11cf",
   "metadata": {},
   "outputs": [
    {
     "name": "stdout",
     "output_type": "stream",
     "text": [
      "=== F-STRINGS (come printf ma meglio) ===\n",
      "Esperimento: Misura CLT\n",
      "Temperatura: 23.46 °C\n",
      "Velocità luce: 3.00e+08 m/s\n",
      "Velocità luce: 299,792,458 m/s\n",
      "\n",
      "=== MANIPOLAZIONE STRINGHE ===\n",
      "Formula: E = mc²\n",
      "Maiuscolo: E = MC²\n",
      "Contiene 'mc': 1\n",
      "Sostituisci: Energia = mc²\n",
      "\n",
      "=== RISULTATI ESPERIMENTO ===\n",
      "Misura_1: 12.475\n",
      "Misura_2: 9.085\n",
      "Misura_3: 9.914\n",
      "Misura_4: 10.116\n",
      "Misura_5: 11.697\n"
     ]
    }
   ],
   "source": [
    "# Stringhe e f-strings (molto meglio di printf in C!)\n",
    "nome_esperimento = \"Misura CLT\"\n",
    "temperatura = 23.456789\n",
    "velocita = 299792458  # m/s\n",
    "\n",
    "print(\"=== F-STRINGS (come printf ma meglio) ===\")\n",
    "print(f\"Esperimento: {nome_esperimento}\")\n",
    "print(f\"Temperatura: {temperatura:.2f} °C\")  # 2 decimali\n",
    "print(f\"Velocità luce: {velocita:.2e} m/s\")  # Notazione scientifica\n",
    "print(f\"Velocità luce: {velocita:,} m/s\")    # Con separatori\n",
    "\n",
    "# Manipolazione stringhe\n",
    "print(f\"\\n=== MANIPOLAZIONE STRINGHE ===\")\n",
    "formula = \"E = mc²\"\n",
    "print(f\"Formula: {formula}\")\n",
    "print(f\"Maiuscolo: {formula.upper()}\")\n",
    "print(f\"Contiene 'mc': {formula.count('mc')}\")\n",
    "print(f\"Sostituisci: {formula.replace('E', 'Energia')}\")\n",
    "\n",
    "# Combinare dati numerici e stringhe\n",
    "risultati = []\n",
    "for i in range(5):\n",
    "    valore = np.random.normal(10, 2)  # Simulazione misura\n",
    "    risultati.append(f\"Misura_{i+1}: {valore:.3f}\")\n",
    "\n",
    "print(f\"\\n=== RISULTATI ESPERIMENTO ===\")\n",
    "for r in risultati:\n",
    "    print(r)"
   ]
  },
  {
   "cell_type": "markdown",
   "id": "4a0e8508",
   "metadata": {},
   "source": [
    "### 🔥 Esercizio 3: Formatting scientifico"
   ]
  },
  {
   "cell_type": "code",
   "execution_count": null,
   "id": "aff5a7de",
   "metadata": {},
   "outputs": [],
   "source": [
    "# 📝 COMPLETARE:\n",
    "# Crea un report scientifico formattato come sopra ma più compatto:\n",
    "# 1. Nome: \"Tuo Nome\", Data: oggi  \n",
    "# 2. Costante Planck: h = 6.62607015e-34 J·s (notazione scientifica)\n",
    "# 3. Lista 5 resistenze: [10.234, 10.187, 10.201, 10.245, 10.189] Ω\n",
    "# 4. Calcola media resistenze\n",
    "# 💡 SUGGERIMENTO: usa :.3e per scientifica, :.3f per decimali!\n",
    "\n",
    "# Scrivi il tuo codice qui:"
   ]
  },
  {
   "cell_type": "markdown",
   "id": "ceed82e5",
   "metadata": {},
   "source": [
    "## 4. Plot e Visualizzazioni (essenziali in fisica!)"
   ]
  },
  {
   "cell_type": "code",
   "execution_count": 15,
   "id": "52159bdc",
   "metadata": {},
   "outputs": [
    {
     "name": "stdout",
     "output_type": "stream",
     "text": [
      "🎨 Creando diversi tipi di plot...\n"
     ]
    },
    {
     "data": {
      "image/png": "[encoded data removed]",
      "text/plain": [
       "<Figure size 1200x800 with 4 Axes>"
      ]
     },
     "metadata": {},
     "output_type": "display_data"
    },
    {
     "name": "stdout",
     "output_type": "stream",
     "text": [
      "✅ Tipi di plot: lineare, scatter, log, istogramma\n"
     ]
    }
   ],
   "source": [
    "# Plot di base (indispensabili per analisi dati)\n",
    "print(\"🎨 Creando diversi tipi di plot...\")\n",
    "\n",
    "# Dati simulati per esempio\n",
    "x = np.linspace(0, 10, 50)\n",
    "y_lineare = 2*x + 1\n",
    "y_quadratica = x**2\n",
    "y_rumore = y_lineare + np.random.normal(0, 2, len(x))\n",
    "\n",
    "# Plot multipli in una figura\n",
    "fig, axes = plt.subplots(2, 2, figsize=(12, 8))\n",
    "\n",
    "# 1. Plot lineare\n",
    "axes[0,0].plot(x, y_lineare, 'b-', linewidth=2, label='y = 2x + 1')\n",
    "axes[0,0].set_title('Relazione Lineare')\n",
    "axes[0,0].set_xlabel('x')\n",
    "axes[0,0].set_ylabel('y')\n",
    "axes[0,0].legend()\n",
    "axes[0,0].grid(True, alpha=0.3)\n",
    "\n",
    "# 2. Scatter plot con rumore (dati sperimentali)\n",
    "axes[0,1].scatter(x, y_rumore, alpha=0.6, color='red', s=30)\n",
    "axes[0,1].plot(x, y_lineare, 'k--', alpha=0.8, label='Fit teorico')\n",
    "axes[0,1].set_title('Dati Sperimentali con Rumore')\n",
    "axes[0,1].set_xlabel('x')\n",
    "axes[0,1].set_ylabel('y + rumore')\n",
    "axes[0,1].legend()\n",
    "\n",
    "# 3. Plot logaritmico\n",
    "axes[1,0].semilogy(x[1:], y_quadratica[1:], 'g-', linewidth=2)\n",
    "axes[1,0].set_title('Scala Logaritmica')\n",
    "axes[1,0].set_xlabel('x')\n",
    "axes[1,0].set_ylabel('log(y)')\n",
    "axes[1,0].grid(True, alpha=0.3)\n",
    "\n",
    "# 4. Istogramma (distribuzione dati)\n",
    "dati_casuali = np.random.normal(50, 15, 1000)\n",
    "axes[1,1].hist(dati_casuali, bins=30, alpha=0.7, color='purple', edgecolor='black', density=True)\n",
    "axes[1,1].set_title('Istogramma Dati Casuali')\n",
    "axes[1,1].set_xlabel('Valore')\n",
    "axes[1,1].set_ylabel('Frequenza')\n",
    "axes[1,1].axvline(np.mean(dati_casuali), color='red', linestyle='--', \n",
    "                 linewidth=2, label=f'Media = {np.mean(dati_casuali):.1f}')\n",
    "axes[1,1].legend()\n",
    "\n",
    "plt.tight_layout()\n",
    "plt.show()\n",
    "\n",
    "print(\"✅ Tipi di plot: lineare, scatter, log, istogramma\")"
   ]
  },
  {
   "cell_type": "markdown",
   "id": "275601a8",
   "metadata": {},
   "source": [
    "### 🔥 Esercizio 4: Il tuo primo plot scientifico"
   ]
  },
  {
   "cell_type": "code",
   "execution_count": null,
   "id": "b1b4f874",
   "metadata": {},
   "outputs": [],
   "source": [
    "# 📝 COMPLETARE:\n",
    "# Crea un plot della Legge di Ohm più furbo di quello sopra:\n",
    "# 1. Corrente: da 0 a 5 A (usa np.linspace con 50 punti)\n",
    "# 2. Due resistenze: R1=10Ω, R2=20Ω  \n",
    "# 3. Calcola tensioni: V = R*I per entrambe\n",
    "# 4. Plot V vs I per entrambe con legend, griglia, titoli\n",
    "\n",
    "# Scrivi il tuo codice qui:"
   ]
  },
  {
   "cell_type": "markdown",
   "id": "c663d238",
   "metadata": {},
   "source": [
    "## 5. Funzioni e Loop (per automazione)"
   ]
  },
  {
   "cell_type": "code",
   "execution_count": 9,
   "id": "b04a0063",
   "metadata": {},
   "outputs": [
    {
     "name": "stdout",
     "output_type": "stream",
     "text": [
      "=== TEST FUNZIONI ===\n",
      "Massa: 0.1 kg → Energia: 5.00 J\n",
      "Massa: 0.5 kg → Energia: 25.00 J\n",
      "Massa: 1.0 kg → Energia: 50.00 J\n",
      "Massa: 2.0 kg → Energia: 100.00 J\n",
      "\n",
      "=== SIMULAZIONE MISURE ===\n",
      "Misura 1: 9.699 m/s²\n",
      "Misura 2: 9.836 m/s²\n",
      "Misura 3: 9.831 m/s²\n",
      "Misura 4: 9.888 m/s²\n",
      "Misura 5: 9.767 m/s²\n",
      "Misura 6: 9.851 m/s²\n",
      "Misura 7: 9.865 m/s²\n",
      "Misura 8: 9.854 m/s²\n",
      "Misura 9: 9.727 m/s²\n",
      "Misura 10: 9.825 m/s²\n",
      "\n",
      "=== ANALISI AUTOMATICA ===\n",
      "Media: 9.8144\n",
      "Std: 0.0592\n",
      "Mediana: 9.8336\n",
      "Min: 9.6986\n",
      "Max: 9.8883\n",
      "Errore rispetto a g teorico: 0.0044 m/s²\n"
     ]
    }
   ],
   "source": [
    "# Funzioni per calcoli ripetitivi (come in C ma più semplici)\n",
    "def calcola_energia_cinetica(massa, velocita):\n",
    "    \"\"\"Calcola energia cinetica: E = 1/2 * m * v²\"\"\"\n",
    "    return 0.5 * massa * velocita**2\n",
    "\n",
    "def analizza_dati(dati):\n",
    "    \"\"\"Analisi statistica completa di un array\"\"\"\n",
    "    return {\n",
    "        'media': np.mean(dati),\n",
    "        'std': np.std(dati),\n",
    "        'mediana': np.median(dati),\n",
    "        'min': np.min(dati),\n",
    "        'max': np.max(dati)\n",
    "    }\n",
    "\n",
    "# Test delle funzioni\n",
    "print(\"=== TEST FUNZIONI ===\")\n",
    "masse = [0.1, 0.5, 1.0, 2.0]  # kg\n",
    "velocita = 10  # m/s\n",
    "\n",
    "for m in masse:\n",
    "    energia = calcola_energia_cinetica(m, velocita)\n",
    "    print(f\"Massa: {m} kg → Energia: {energia:.2f} J\")\n",
    "\n",
    "# Loop per simulazione esperimento\n",
    "print(f\"\\n=== SIMULAZIONE MISURE ===\")\n",
    "n_misure = 10\n",
    "misure = []\n",
    "\n",
    "for i in range(n_misure):\n",
    "    # Simula misura con errore casuale\n",
    "    valore_vero = 9.81  # g (m/s²)\n",
    "    errore = np.random.normal(0, 0.1)  # Errore strumentale\n",
    "    misura = valore_vero + errore\n",
    "    misure.append(misura)\n",
    "    print(f\"Misura {i+1}: {misura:.3f} m/s²\")\n",
    "\n",
    "# Analisi automatica dei risultati\n",
    "risultati = analizza_dati(np.array(misure))\n",
    "print(f\"\\n=== ANALISI AUTOMATICA ===\")\n",
    "for chiave, valore in risultati.items():\n",
    "    print(f\"{chiave.capitalize()}: {valore:.4f}\")\n",
    "\n",
    "# Confronto con valore teorico\n",
    "differenza = abs(risultati['media'] - 9.81)\n",
    "print(f\"Errore rispetto a g teorico: {differenza:.4f} m/s²\")"
   ]
  },
  {
   "cell_type": "markdown",
   "id": "f294d249",
   "metadata": {},
   "source": [
    "### 🔥 Esercizio 5: Funzioni fisiche"
   ]
  },
  {
   "cell_type": "code",
   "execution_count": null,
   "id": "d3fc5676",
   "metadata": {},
   "outputs": [],
   "source": [
    "# 📝 COMPLETARE:\n",
    "# Rifai l'esempio delle funzioni ma più compatto:\n",
    "# 1. Definisci funzione energia_potenziale(massa, altezza, g=9.81)\n",
    "# 2. Testala con altezze = [0, 10, 20, 50, 100] m, massa = 2 kg\n",
    "# 3. Stampa risultati in loop\n",
    "# 4. BONUS: plot energia vs altezza, plt.scatter()  \n",
    "# 💡 SUGGERIMENTO: le funzioni evitano codice ripetuto!\n",
    "\n",
    "# Scrivi il tuo codice qui:"
   ]
  },
  {
   "cell_type": "markdown",
   "id": "31b78145",
   "metadata": {},
   "source": [
    "## 6. Variabili Aleatorie"
   ]
  },
  {
   "cell_type": "code",
   "execution_count": 10,
   "id": "ba6ceee4",
   "metadata": {},
   "outputs": [
    {
     "name": "stdout",
     "output_type": "stream",
     "text": [
      "UNIFORME: μ = 4.902565533201336 σ = 2.9199125673107202\n",
      "NORMALE:  μ = 5.197791635896986 σ = 1.9768768828102687\n",
      "ESPON.:   μ = 1.9374284948265268 σ = 1.887850996126713\n"
     ]
    },
    {
     "data": {
      "image/png": "[encoded data removed]",
      "text/plain": [
       "<Figure size 1500x400 with 3 Axes>"
      ]
     },
     "metadata": {},
     "output_type": "display_data"
    }
   ],
   "source": [
    "# Tre distribuzioni diverse\n",
    "np.random.seed(42)\n",
    "\n",
    "# Uniforme, Normale, Esponenziale\n",
    "X_unif = np.random.uniform(0, 10, 1000)\n",
    "X_norm = np.random.normal(5, 2, 1000)  \n",
    "X_exp = np.random.exponential(2, 1000)\n",
    "\n",
    "print(\"UNIFORME: μ =\", np.mean(X_unif), \"σ =\", np.std(X_unif))\n",
    "print(\"NORMALE:  μ =\", np.mean(X_norm), \"σ =\", np.std(X_norm))\n",
    "print(\"ESPON.:   μ =\", np.mean(X_exp), \"σ =\", np.std(X_exp))\n",
    "\n",
    "# Plot\n",
    "fig, axes = plt.subplots(1, 3, figsize=(15, 4))\n",
    "\n",
    "axes[0].hist(X_unif, bins=30, alpha=0.7, color='blue')\n",
    "axes[0].set_title('Uniforme')\n",
    "\n",
    "axes[1].hist(X_norm, bins=30, alpha=0.7, color='green') \n",
    "axes[1].set_title('Normale')\n",
    "\n",
    "axes[2].hist(X_exp, bins=30, alpha=0.7, color='orange')\n",
    "axes[2].set_title('Esponenziale')\n",
    "\n",
    "plt.tight_layout()\n",
    "plt.show()"
   ]
  },
  {
   "cell_type": "markdown",
   "id": "a1631b82",
   "metadata": {},
   "source": [
    "### 🔥 Esercizio 6: Simulazione esperimento"
   ]
  },
  {
   "cell_type": "code",
   "execution_count": null,
   "id": "c26c640e",
   "metadata": {},
   "outputs": [],
   "source": [
    "# 📝 COMPLETARE:\n",
    "# Simula un esperimento statistico più furbo di prima:\n",
    "# 1. Simula 1000 lanci di DUE dadi (usa np.random.randint)\n",
    "# 2. Calcola somma dei due dadi per ogni lancio\n",
    "# 3. Crea istogramma delle somme \n",
    "# 4. Trova quale somma è più frequente\n",
    "# 💡 SUGGERIMENTO: Counter() conta automaticamente le frequenze!\n",
    "\n",
    "# Scrivi il tuo codice qui:"
   ]
  },
  {
   "cell_type": "markdown",
   "id": "5e074c50",
   "metadata": {},
   "source": [
    "# 🎯 Congratulazioni!\n",
    "\n",
    "Hai completato il tutorial **Python Essenziale per Fisica Statistica**! \n",
    "\n",
    "## 📚 Riepilogo delle competenze acquisite:\n",
    "\n",
    "✅ **Operazioni matematiche** di base e scientifiche  \n",
    "✅ **Array NumPy** per gestire dataset numerici  \n",
    "✅ **Formattazione stringhe** per output professionali  \n",
    "✅ **Grafici scientifici** con Matplotlib  \n",
    "✅ **Funzioni personalizzate** per modelli fisici  \n",
    "✅ **Simulazioni Monte Carlo** per esperimenti probabilistici  \n",
    "\n",
    "---\n",
    "\n",
    "## 🚀 Prossimi passi:\n",
    "\n",
    "➡️ **Parte 2**: Teorema del Limite Centrale e Rinormalizzazione  \n",
    "📊 Scoprirai come tutte le distribuzioni convergono alla Gaussiana!\n",
    "\n",
    "*Ora sei pronto per affrontare la statistica avanzata con Python!* 🐍⚡"
   ]
  },
  {
   "cell_type": "markdown",
   "id": "57eb974d",
   "metadata": {},
   "source": [
    "---\n",
    "## 🎯 Riepilogo Skills Acquisite\n",
    "\n",
    "**✅ Hai imparato:**\n",
    "- Array NumPy per calcoli veloci\n",
    "- Stringhe e formatting per output professionali  \n",
    "- Plot per visualizzare dati\n",
    "- Funzioni per automazione\n",
    "- Variabili aleatorie per simulazioni\n",
    "\n",
    "**🚀 Prossimo passo**: Parte 2 - Teorema del Limite Centrale!"
   ]
  },
  {
   "cell_type": "code",
   "execution_count": null,
   "id": "1338f858",
   "metadata": {},
   "outputs": [],
   "source": []
  }
 ],
 "metadata": {
  "kernelspec": {
   "display_name": "tensorflow_FINAL (Py3.11)",
   "language": "python",
   "name": "tensorflow_final"
  },
  "language_info": {
   "codemirror_mode": {
    "name": "ipython",
    "version": 3
   },
   "file_extension": ".py",
   "mimetype": "text/x-python",
   "name": "python",
   "nbconvert_exporter": "python",
   "pygments_lexer": "ipython3",
   "version": "3.11.9"
  }
 },
 "nbformat": 4,
 "nbformat_minor": 5
}
